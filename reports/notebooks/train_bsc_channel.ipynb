{
 "cells": [
  {
   "cell_type": "markdown",
   "metadata": {
    "colab_type": "text",
    "id": "60kkM4qXmOKL"
   },
   "source": [
    "## Train and Benchmark and Neural Decoder  with Viterbi Decoder.\n",
    "\n",
    "This notebook contains pipeline how to train a neural decoder model for decoding convolution code over BSC Channel at 1/2-RSC signal.\n",
    "\n"
   ]
  },
  {
   "cell_type": "markdown",
   "metadata": {
    "colab_type": "text",
    "id": "cyu1oMO5wIML"
   },
   "source": [
    "## Import required packages"
   ]
  },
  {
   "cell_type": "code",
   "execution_count": 1,
   "metadata": {
    "colab": {
     "autoexec": {
      "startup": false,
      "wait_interval": 0
     }
    },
    "colab_type": "code",
    "id": "iCzr0Es9IfSf"
   },
   "outputs": [],
   "source": [
    "import multiprocessing as mp\n",
    "import time\n",
    "import numpy as np\n",
    "import commpy as cp\n",
    "import tensorflow as tf\n",
    "\n",
    "from deepcom.model import NRSCDecoder           # Neural Decoder Model\n",
    "from deepcom.metrics import BER, BLER           # metrics to benchmark Neural Decoder Model\n",
    "from deepcom.utils import corrupt_signal        # simulate a AWGN Channel\n",
    "\n",
    "from deepcom.dataset import create_dataset      # Create synthetic dataset\n",
    "from deepcom.dataset import data_genenerator    # data loader for Tensorflow\n",
    "\n",
    "import  matplotlib.pyplot  as plt\n",
    "%matplotlib inline"
   ]
  },
  {
   "cell_type": "markdown",
   "metadata": {
    "colab_type": "text",
    "id": "IsrXsYa7lcb6"
   },
   "source": [
    "## Define Hyper-paramemeters for the experiment"
   ]
  },
  {
   "cell_type": "code",
   "execution_count": 2,
   "metadata": {
    "colab": {
     "autoexec": {
      "startup": false,
      "wait_interval": 0
     }
    },
    "colab_type": "code",
    "id": "X9VFHvkWlhW9"
   },
   "outputs": [],
   "source": [
    "# Number of training data\n",
    "BLOCK_LEN = 100\n",
    "NUM_TRAINING_DATA = 240000\n",
    "NUM_TESTING_DATA  = 10000\n",
    "\n",
    "# Communication Algo via Deep Learning (page 5, last paragraph)\n",
    "NOISE_TYPE='bsc'\n",
    "ERROR_PROB_TRAIN=0.15\n",
    "\n",
    "# Network Architectures\n",
    "NUM_LAYERS = 2\n",
    "NUM_HIDDEN_UNITS = 400\n",
    "\n",
    "# Hyper-parameters for training\n",
    "BATCH_SIZE = 500       # depends on size of GPU, should be a factor of num_data\n",
    "LEARNING_RATE = 1e-3\n",
    "DROPOUT_RATE= 0.75\n",
    "\n",
    "\n",
    "CONSTRAINT_LEN = 3     # num of shifts in Conv. Encoder\n",
    "TRACE_BACK_DEPTH = 15  # (?) a parameter Viterbi Encoder"
   ]
  },
  {
   "cell_type": "markdown",
   "metadata": {
    "colab_type": "text",
    "id": "VBCUqBHQnru1"
   },
   "source": [
    "## Generate Synthetic Dataset for training/evaluation"
   ]
  },
  {
   "cell_type": "code",
   "execution_count": 3,
   "metadata": {
    "colab": {
     "autoexec": {
      "startup": false,
      "wait_interval": 0
     },
     "base_uri": "https://localhost:8080/",
     "height": 85
    },
    "colab_type": "code",
    "executionInfo": {
     "elapsed": 22629,
     "status": "ok",
     "timestamp": 1529880113413,
     "user": {
      "displayName": "Dat Nguyen",
      "photoUrl": "//lh3.googleusercontent.com/-irIcNYd-KIw/AAAAAAAAAAI/AAAAAAAAAEs/NlM8kG6RL4Q/s50-c-k-no/photo.jpg",
      "userId": "108917076199533451784"
     },
     "user_tz": 420
    },
    "id": "uwbEp-ehnvT8",
    "outputId": "63d819f1-421e-46e8-ade9-9d1221a1556f"
   },
   "outputs": [
    {
     "name": "stdout",
     "output_type": "stream",
     "text": [
      "Creating training data....\n",
      "Creating testing data....\n",
      "Number of training sequences 240000\n",
      "Number of testing sequences 10000\n"
     ]
    }
   ],
   "source": [
    "from commpy.channelcoding import Trellis\n",
    "#  Generator Matrix (octal representation)\n",
    "G = np.array([[0o7, 0o5]]) \n",
    "M = np.array([CONSTRAINT_LEN - 1])\n",
    "trellis = Trellis(M, G, feedback=0o7, code_type='rsc')\n",
    "\n",
    "# Create dataset \n",
    "print('Creating training data....')\n",
    "\n",
    "# X_train shape = [NUM_TRAINING_DATA, BLOCK_LENGTH, 2]\n",
    "# Y_train shape = [NUM_TRAINING_DATA, BLOCK_LENGTH, 1]\n",
    "X_train, Y_train = create_dataset(\n",
    "    NUM_TRAINING_DATA, \n",
    "    BLOCK_LEN, \n",
    "    trellis, \n",
    "    noise_type=NOISE_TYPE, error_prob=ERROR_PROB_TRAIN, seed=2018)\n",
    "\n",
    "print('Creating testing data....')\n",
    "# X_test shape = [NUM_TESTING_DATA, BLOCK_LENGTH, 2]\n",
    "# Y_test shape = [NUM_TESTING_DATA, BLOCK_LENGTH, 1]\n",
    "X_test, Y_test = create_dataset(\n",
    "    NUM_TESTING_DATA, \n",
    "    BLOCK_LEN, \n",
    "    trellis,\n",
    "    noise_type=NOISE_TYPE, error_prob=ERROR_PROB_TRAIN, seed=1111)\n",
    "\n",
    "\n",
    "print('Number of training sequences {}'.format(len(X_train)))\n",
    "print('Number of testing sequences {}'.format(len(Y_test)))\n",
    "# print(X_train.shape, Y_train.shape)"
   ]
  },
  {
   "cell_type": "markdown",
   "metadata": {
    "colab_type": "text",
    "id": "2fUS4JyEvFVZ"
   },
   "source": [
    "## Define Neural Decoder Model"
   ]
  },
  {
   "cell_type": "code",
   "execution_count": 4,
   "metadata": {
    "colab": {
     "autoexec": {
      "startup": false,
      "wait_interval": 0
     },
     "base_uri": "https://localhost:8080/",
     "height": 340
    },
    "colab_type": "code",
    "executionInfo": {
     "elapsed": 2518,
     "status": "ok",
     "timestamp": 1529880115957,
     "user": {
      "displayName": "Dat Nguyen",
      "photoUrl": "//lh3.googleusercontent.com/-irIcNYd-KIw/AAAAAAAAAAI/AAAAAAAAAEs/NlM8kG6RL4Q/s50-c-k-no/photo.jpg",
      "userId": "108917076199533451784"
     },
     "user_tz": 420
    },
    "id": "uqzVgS7IvH0r",
    "outputId": "f8746742-fc21-4897-a4af-6fd13b7860c4"
   },
   "outputs": [
    {
     "name": "stdout",
     "output_type": "stream",
     "text": [
      "_________________________________________________________________\n",
      "Layer (type)                 Output Shape              Param #   \n",
      "=================================================================\n",
      "input_1 (InputLayer)         (None, None, 2)           0         \n",
      "_________________________________________________________________\n",
      "bidirectional (Bidirectional (None, None, 800)         967200    \n",
      "_________________________________________________________________\n",
      "batch_normalization (BatchNo (None, None, 800)         3200      \n",
      "_________________________________________________________________\n",
      "bidirectional_1 (Bidirection (None, None, 800)         2882400   \n",
      "_________________________________________________________________\n",
      "batch_normalization_1 (Batch (None, None, 800)         3200      \n",
      "_________________________________________________________________\n",
      "time_distributed (TimeDistri (None, None, 1)           801       \n",
      "=================================================================\n",
      "Total params: 3,856,801\n",
      "Trainable params: 3,853,601\n",
      "Non-trainable params: 3,200\n",
      "_________________________________________________________________\n"
     ]
    }
   ],
   "source": [
    "# Construct Neural Decoder\n",
    "inputs = tf.keras.Input(shape=(None, 2))\n",
    "outputs = NRSCDecoder(\n",
    "    inputs, \n",
    "    is_training=True, \n",
    "    num_layers=NUM_LAYERS, \n",
    "    hidden_units=NUM_HIDDEN_UNITS, \n",
    "    dropout=DROPOUT_RATE)\n",
    "model = tf.keras.Model(inputs, outputs)\n",
    "\n",
    "# Set up training \n",
    "model.compile('adam', 'binary_crossentropy', [BER, BLER])\n",
    "model.summary()"
   ]
  },
  {
   "cell_type": "markdown",
   "metadata": {
    "colab_type": "text",
    "id": "L9zfO9Z9vswz"
   },
   "source": [
    "## Start Training/Eval Pipeline"
   ]
  },
  {
   "cell_type": "code",
   "execution_count": 6,
   "metadata": {
    "colab": {
     "autoexec": {
      "startup": false,
      "wait_interval": 0
     },
     "base_uri": "https://localhost:8080/",
     "height": 51
    },
    "colab_type": "code",
    "id": "lLXl8fC9vul5",
    "outputId": "4c63b55a-79d5-4a78-c75a-79a78213c4b2",
    "scrolled": true
   },
   "outputs": [
    {
     "name": "stdout",
     "output_type": "stream",
     "text": [
      "Epoch 1/100\n",
      "480/480 [==============================] - 638s 1s/step - loss: 0.4156 - BER: 0.1541 - BLER: 1.0000 - val_loss: 0.4218 - val_BER: 0.1496 - val_BLER: 1.0000\n",
      "Epoch 2/100\n",
      "480/480 [==============================] - 644s 1s/step - loss: 0.3633 - BER: 0.1398 - BLER: 1.0000 - val_loss: 0.3504 - val_BER: 0.1336 - val_BLER: 1.0000\n",
      "Epoch 3/100\n",
      "480/480 [==============================] - 637s 1s/step - loss: 0.3535 - BER: 0.1354 - BLER: 0.9999 - val_loss: 0.3444 - val_BER: 0.1328 - val_BLER: 0.9996\n",
      "Epoch 4/100\n",
      "480/480 [==============================] - 634s 1s/step - loss: 0.3488 - BER: 0.1344 - BLER: 0.9999 - val_loss: 0.3415 - val_BER: 0.1324 - val_BLER: 0.9996\n",
      "Epoch 5/100\n",
      "480/480 [==============================] - 632s 1s/step - loss: 0.3457 - BER: 0.1337 - BLER: 0.9998 - val_loss: 0.3391 - val_BER: 0.1317 - val_BLER: 0.9996\n",
      "Epoch 6/100\n",
      "480/480 [==============================] - 642s 1s/step - loss: 0.3435 - BER: 0.1333 - BLER: 0.9998 - val_loss: 0.3374 - val_BER: 0.1318 - val_BLER: 0.9996\n",
      "Epoch 7/100\n",
      "480/480 [==============================] - 658s 1s/step - loss: 0.3420 - BER: 0.1330 - BLER: 0.9998 - val_loss: 0.3365 - val_BER: 0.1315 - val_BLER: 0.9992\n",
      "Epoch 8/100\n",
      "480/480 [==============================] - 651s 1s/step - loss: 0.3411 - BER: 0.1327 - BLER: 0.9998 - val_loss: 0.3359 - val_BER: 0.1309 - val_BLER: 0.9988\n",
      "Epoch 9/100\n",
      "480/480 [==============================] - 649s 1s/step - loss: 0.3404 - BER: 0.1326 - BLER: 0.9998 - val_loss: 0.3358 - val_BER: 0.1310 - val_BLER: 0.9988\n",
      "Epoch 10/100\n",
      "480/480 [==============================] - 640s 1s/step - loss: 0.3399 - BER: 0.1325 - BLER: 0.9997 - val_loss: 0.3359 - val_BER: 0.1313 - val_BLER: 0.9992\n",
      "Epoch 11/100\n",
      "480/480 [==============================] - 629s 1s/step - loss: 0.3395 - BER: 0.1324 - BLER: 0.9998 - val_loss: 0.3353 - val_BER: 0.1311 - val_BLER: 0.9992\n",
      "Epoch 12/100\n",
      "480/480 [==============================] - 632s 1s/step - loss: 0.3393 - BER: 0.1323 - BLER: 0.9997 - val_loss: 0.3355 - val_BER: 0.1314 - val_BLER: 0.9988\n",
      "Epoch 13/100\n",
      "480/480 [==============================] - 627s 1s/step - loss: 0.3390 - BER: 0.1323 - BLER: 0.9997 - val_loss: 0.3351 - val_BER: 0.1311 - val_BLER: 0.9988\n",
      "Epoch 14/100\n",
      "480/480 [==============================] - 624s 1s/step - loss: 0.3388 - BER: 0.1322 - BLER: 0.9997 - val_loss: 0.3350 - val_BER: 0.1313 - val_BLER: 0.9988\n",
      "Epoch 15/100\n",
      "480/480 [==============================] - 621s 1s/step - loss: 0.3387 - BER: 0.1322 - BLER: 0.9997 - val_loss: 0.3347 - val_BER: 0.1311 - val_BLER: 0.9988\n",
      "Epoch 16/100\n",
      "480/480 [==============================] - 623s 1s/step - loss: 0.3385 - BER: 0.1321 - BLER: 0.9997 - val_loss: 0.3346 - val_BER: 0.1309 - val_BLER: 0.9988\n",
      "Epoch 17/100\n",
      "480/480 [==============================] - 625s 1s/step - loss: 0.3385 - BER: 0.1321 - BLER: 0.9997 - val_loss: 0.3345 - val_BER: 0.1310 - val_BLER: 0.9988\n",
      "Epoch 18/100\n",
      "480/480 [==============================] - 631s 1s/step - loss: 0.3384 - BER: 0.1321 - BLER: 0.9997 - val_loss: 0.3343 - val_BER: 0.1311 - val_BLER: 0.9988\n",
      "Epoch 19/100\n",
      "480/480 [==============================] - 634s 1s/step - loss: 0.3383 - BER: 0.1321 - BLER: 0.9997 - val_loss: 0.3346 - val_BER: 0.1313 - val_BLER: 0.9988\n",
      "Epoch 20/100\n",
      "480/480 [==============================] - 631s 1s/step - loss: 0.3383 - BER: 0.1321 - BLER: 0.9997 - val_loss: 0.3348 - val_BER: 0.1313 - val_BLER: 0.9988\n",
      "Epoch 21/100\n",
      "480/480 [==============================] - 629s 1s/step - loss: 0.3382 - BER: 0.1321 - BLER: 0.9997 - val_loss: 0.3344 - val_BER: 0.1310 - val_BLER: 0.9996\n"
     ]
    }
   ],
   "source": [
    "# Set up Data Loader using tf.Dataset\n",
    "train_set = data_genenerator(X_train, Y_train, BATCH_SIZE, shuffle=True)\n",
    "test_set = data_genenerator(X_test, Y_test, BATCH_SIZE, shuffle=False)\n",
    "\n",
    "# Backup best model\n",
    "backup = tf.keras.callbacks.ModelCheckpoint(                     \n",
    "  filepath='BiGRU.keras',\n",
    "  monitor='val_loss',\n",
    "  save_best_only=True)\n",
    "    \n",
    "# Stop training early if the model seems to overfit\n",
    "early_stopping = tf.keras.callbacks.EarlyStopping(\n",
    "    monitor='val_loss',\n",
    "    min_delta=0.0,\n",
    "    patience=3,\n",
    "    verbose=0, mode='auto')\n",
    "\n",
    "history = model.fit(\n",
    "    train_set.make_one_shot_iterator(), \n",
    "    steps_per_epoch=len(X_train) //BATCH_SIZE, \n",
    "    validation_data=test_set.make_one_shot_iterator(),\n",
    "    validation_steps= len(X_test) //BATCH_SIZE,\n",
    "    callbacks=[early_stopping, backup],\n",
    "    epochs=100)\n",
    "\n",
    "model = tf.keras.models.load_model('BiGRU.keras',{'BER': BER, 'BLER': BLER})"
   ]
  },
  {
   "cell_type": "code",
   "execution_count": 7,
   "metadata": {
    "colab": {
     "autoexec": {
      "startup": false,
      "wait_interval": 0
     },
     "base_uri": "https://localhost:8080/",
     "height": 387
    },
    "colab_type": "code",
    "executionInfo": {
     "elapsed": 1105,
     "status": "ok",
     "timestamp": 1529874947100,
     "user": {
      "displayName": "Dat Nguyen",
      "photoUrl": "//lh3.googleusercontent.com/-irIcNYd-KIw/AAAAAAAAAAI/AAAAAAAAAEs/NlM8kG6RL4Q/s50-c-k-no/photo.jpg",
      "userId": "108917076199533451784"
     },
     "user_tz": 420
    },
    "id": "UheNmuX9isBo",
    "outputId": "7e6287e3-aab3-4150-cd79-0b2545b27fe4"
   },
   "outputs": [
    {
     "data": {
      "image/png": "[encoded data removed]",
      "text/plain": [
       "<Figure size 576x432 with 1 Axes>"
      ]
     },
     "metadata": {},
     "output_type": "display_data"
    }
   ],
   "source": [
    "# Count of the number of epochs\n",
    "epochs = range(1, len(history.history['loss']) + 1)\n",
    "# Visualize loss history\n",
    "plt.figure(figsize=(8, 6))\n",
    "plt.plot(epochs, history.history['loss'], 'r--')\n",
    "plt.plot(epochs, history.history['val_loss'], 'b-')\n",
    "plt.legend(['Training Loss', 'Test Loss'])\n",
    "plt.xlabel('Epoch')\n",
    "plt.ylabel('Loss')\n",
    "plt.grid()\n",
    "plt.show()"
   ]
  },
  {
   "cell_type": "markdown",
   "metadata": {
    "colab_type": "text",
    "id": "_CsQHyoH4nGO"
   },
   "source": [
    "## Benchmark Neural Decoder"
   ]
  },
  {
   "cell_type": "code",
   "execution_count": 8,
   "metadata": {
    "colab": {
     "autoexec": {
      "startup": false,
      "wait_interval": 0
     },
     "base_uri": "https://localhost:8080/",
     "height": 36
    },
    "colab_type": "code",
    "executionInfo": {
     "elapsed": 693,
     "status": "ok",
     "timestamp": 1529874948606,
     "user": {
      "displayName": "Dat Nguyen",
      "photoUrl": "//lh3.googleusercontent.com/-irIcNYd-KIw/AAAAAAAAAAI/AAAAAAAAAEs/NlM8kG6RL4Q/s50-c-k-no/photo.jpg",
      "userId": "108917076199533451784"
     },
     "user_tz": 420
    },
    "id": "iteYs2bU5EZx",
    "outputId": "f2736499-7d68-4728-c0fd-a5d9fa3be680"
   },
   "outputs": [],
   "source": [
    "def benchmark_neural_decoder(noisy_inputs, labels):\n",
    "    \n",
    "    # Set up data generator\n",
    "    Y = np.reshape(labels, (-1, BLOCK_LEN, 1))\n",
    "    X = np.reshape(np.array(noisy_inputs)[:, :2*BLOCK_LEN], (-1, BLOCK_LEN, 2))\n",
    "    test_set = data_genenerator(X, Y, BATCH_SIZE, shuffle=False)\n",
    "    \n",
    "    # Make predictions in batch\n",
    "    decoded_bits = model.predict(\n",
    "        test_set.make_one_shot_iterator(), \n",
    "        steps=len(Y) // BATCH_SIZE)\n",
    "    \n",
    "    # Compute hamming distances\n",
    "    original_bits = np.reshape(Y, (-1, BLOCK_LEN)).astype(int)\n",
    "    decoded_bits =  np.reshape(np.round(decoded_bits), (-1, BLOCK_LEN)).astype(int)\n",
    "    hamming_dist = np.not_equal(original_bits, decoded_bits)\n",
    "    \n",
    "    return np.sum(hamming_dist, axis=1)\n",
    "\n",
    "def benchmark_viterbi(message_bits, noisy_bits, sigma):\n",
    "  \n",
    "    # make fair comparison between (100, 204) convolutional code and RNN decoder\n",
    "    # Reference: Author's code\n",
    "    noisy_bits[-2*int(M):] = 0\n",
    "    \n",
    "    # Viterbi Decoder on Conv. Code\n",
    "    decoded_bits = cp.channelcoding.viterbi_decode(\n",
    "        coded_bits=noisy_bits.astype(float), \n",
    "        trellis=trellis,\n",
    "        tb_depth=TRACE_BACK_DEPTH,\n",
    "        decoding_type='hard')  # for BSC, 'unquantized' for AWGN\n",
    "     \n",
    "    # Number of bit errors (hamming distance)\n",
    "    hamming_dist = cp.utilities.hamming_dist(\n",
    "        message_bits.astype(int),\n",
    "        decoded_bits[:-int(M)])\n",
    "    return hamming_dist\n",
    "\n",
    " \n",
    "# #################################################################\n",
    "# For every SNR_db, we generates new noisy signals\n",
    "# for fair comparision.\n",
    "# #################################################################\n",
    "def generate_noisy_input(message_bits, trellis, error_prob):\n",
    "    # Encode message bit\n",
    "    coded_bits = cp.channelcoding.conv_encode(message_bits, trellis)\n",
    "    # Corrupt message on BSC Channel\n",
    "    coded_bits = corrupt_signal(coded_bits, noise_type='bsc', error_prob=error_prob)\n",
    "    return coded_bits, message_bits"
   ]
  },
  {
   "cell_type": "code",
   "execution_count": 9,
   "metadata": {
    "colab": {
     "autoexec": {
      "startup": false,
      "wait_interval": 0
     },
     "base_uri": "https://localhost:8080/",
     "height": 216
    },
    "colab_type": "code",
    "executionInfo": {
     "elapsed": 938376,
     "status": "ok",
     "timestamp": 1529875887369,
     "user": {
      "displayName": "Dat Nguyen",
      "photoUrl": "//lh3.googleusercontent.com/-irIcNYd-KIw/AAAAAAAAAAI/AAAAAAAAAEs/NlM8kG6RL4Q/s50-c-k-no/photo.jpg",
      "userId": "108917076199533451784"
     },
     "user_tz": 420
    },
    "id": "gkTTBO0nvxAi",
    "outputId": "eb1b9114-d056-4ec5-c7e8-8a5ba16af9e2"
   },
   "outputs": [
    {
     "name": "stdout",
     "output_type": "stream",
     "text": [
      "[Prob]=0.01\n",
      "\tNeural Decoder:  [BER]=0.0002710 [BLER]=0.018 -- 9.850s\n",
      "\tViterbi Decoder: [BER]=0.0036060 [BLER]=0.307 -- 38.462s\n",
      "[Prob]=0.05\n",
      "\tNeural Decoder:  [BER]=0.0127350 [BLER]=0.499 -- 8.460s\n",
      "\tViterbi Decoder: [BER]=0.0177510 [BLER]=0.605 -- 37.048s\n",
      "[Prob]=0.09\n",
      "\tNeural Decoder:  [BER]=0.0518550 [BLER]=0.927 -- 8.854s\n",
      "\tViterbi Decoder: [BER]=0.0622980 [BLER]=0.915 -- 36.725s\n",
      "[Prob]=0.13\n",
      "\tNeural Decoder:  [BER]=0.1077340 [BLER]=0.998 -- 8.742s\n",
      "\tViterbi Decoder: [BER]=0.1295870 [BLER]=0.994 -- 36.286s\n",
      "[Prob]=0.18\n",
      "\tNeural Decoder:  [BER]=0.1690020 [BLER]=1.000 -- 8.793s\n",
      "\tViterbi Decoder: [BER]=0.2006410 [BLER]=1.000 -- 36.658s\n",
      "[Prob]=0.22\n",
      "\tNeural Decoder:  [BER]=0.2232440 [BLER]=1.000 -- 9.375s\n",
      "\tViterbi Decoder: [BER]=0.2595070 [BLER]=1.000 -- 36.410s\n",
      "[Prob]=0.26\n",
      "\tNeural Decoder:  [BER]=0.2683660 [BLER]=1.000 -- 8.739s\n",
      "\tViterbi Decoder: [BER]=0.3065700 [BLER]=1.000 -- 36.625s\n",
      "[Prob]=0.30\n",
      "\tNeural Decoder:  [BER]=0.3133920 [BLER]=1.000 -- 8.987s\n",
      "\tViterbi Decoder: [BER]=0.3459250 [BLER]=1.000 -- 37.265s\n"
     ]
    }
   ],
   "source": [
    "viterbiBERs, viterbiBLERs = [], []\n",
    "neuralBERs, neuralBLERs = [], []\n",
    "\n",
    "pool = mp.Pool(processes=mp.cpu_count())\n",
    "labels = np.reshape(Y_test, (-1, BLOCK_LEN)).astype(int)\n",
    "try: \n",
    "    ERROR_PROBS  = np.linspace(0.01, 0.3, 8)\n",
    "    for error_prob in ERROR_PROBS:\n",
    "        print('[Prob]={:.2f}'.format(error_prob))\n",
    "        \n",
    "        # Generates new noisy signals\n",
    "        result = pool.starmap(\n",
    "            func=generate_noisy_input,  \n",
    "            iterable=[(msg_bits, trellis, error_prob) for msg_bits in labels])\n",
    "        \n",
    "        X, Y =  zip(*result)\n",
    "        \n",
    "        # #################################################################\n",
    "        # BENCHMARK NEURAL DECODER \n",
    "        # #################################################################\n",
    "        nn_start = time.time()\n",
    "        hamm_dists = benchmark_neural_decoder(X, Y)\n",
    "        \n",
    "        nn_ber = sum(hamm_dists) / np.product(np.shape(Y))\n",
    "        nn_bler = np.count_nonzero(hamm_dists) / len(Y)\n",
    "\n",
    "        neuralBERs.append(nn_ber)\n",
    "        neuralBLERs.append(nn_bler)            \n",
    "        print('\\tNeural Decoder:  [BER]={:5.7f} [BLER]={:5.3f} -- {:3.3f}s'.format(\n",
    "            nn_ber, nn_bler, time.time() - nn_start)) \n",
    "\n",
    "        # #################################################################\n",
    "        # BENCHMARK VITERBI DECODER \n",
    "        # #################################################################\n",
    "        vi_start = time.time()\n",
    "        hamm_dists = pool.starmap(benchmark_viterbi, [(y, x, error_prob) for x, y in zip(X, Y)])\n",
    "        \n",
    "        ber = sum(hamm_dists) / np.product(np.shape(Y))\n",
    "        bler = np.count_nonzero(hamm_dists) / len(Y)\n",
    "        \n",
    "        viterbiBERs.append(ber)\n",
    "        viterbiBLERs.append(bler)\n",
    "        print('\\tViterbi Decoder: [BER]={:5.7f} [BLER]={:5.3f} -- {:3.3f}s'.format(\n",
    "              ber, bler, time.time() - vi_start))\n",
    "        \n",
    "except Exception as e:\n",
    "    print(e)\n",
    "finally:\n",
    "    pool.close()"
   ]
  },
  {
   "cell_type": "markdown",
   "metadata": {
    "colab_type": "text",
    "id": "T0cL-ORChXne"
   },
   "source": [
    "# Result"
   ]
  },
  {
   "cell_type": "code",
   "execution_count": 10,
   "metadata": {},
   "outputs": [
    {
     "data": {
      "image/png": "[encoded data removed]",
      "text/plain": [
       "<Figure size 1296x504 with 2 Axes>"
      ]
     },
     "metadata": {},
     "output_type": "display_data"
    }
   ],
   "source": [
    "# ###################################\n",
    "# Plot Bit Error Rate (BER) Curve\n",
    "# ###################################\n",
    "plt.figure(figsize=(18, 7))\n",
    "\n",
    "plt.subplot(1, 2, 1)\n",
    "plt.title('Block Length = 100 || Data rate = 1/2', fontsize=14)\n",
    "\n",
    "plt.semilogy(ERROR_PROBS, neuralBERs, '-vr')\n",
    "plt.semilogy(ERROR_PROBS, viterbiBERs, 's--')\n",
    "plt.legend(['N-RSC (SNR_train=0 dB)', 'Viterbi'], fontsize=16)\n",
    "plt.xlabel('Error Probabilities', fontsize=16)\n",
    "plt.xlim(xmin=ERROR_PROBS[0], xmax=ERROR_PROBS[-1])  # this line\n",
    "plt.ylabel('BER', fontsize=16)\n",
    "plt.grid(True, which='both')\n",
    "plt.savefig('result_ber_block_length_1000_snr0.png')\n",
    "\n",
    "# ###################################\n",
    "# Plot Block Error Rate (BLER) Curve\n",
    "# ###################################\n",
    "plt.subplot(1, 2, 2)\n",
    "plt.title('Block Length = 100 || Data rate = 1/2', fontsize=14)\n",
    "\n",
    "plt.semilogy(ERROR_PROBS, neuralBLERs, '-vr')\n",
    "plt.semilogy(ERROR_PROBS, viterbiBLERs, 's--')\n",
    "plt.ylabel('BLER', fontsize=16)\n",
    "plt.xlabel('Error Probabilities', fontsize=16)\n",
    "plt.legend(['N-RSC (SNR_train=0 dB)', 'Viterbi'], fontsize=16)\n",
    "\n",
    "plt.xlim(xmin=ERROR_PROBS[0], xmax=ERROR_PROBS[-1])  # this line\n",
    "plt.grid(True, which='both')\n",
    "plt.savefig('result_bler_block_length_1000_snr0.png')"
   ]
  },
  {
   "cell_type": "markdown",
   "metadata": {},
   "source": [
    "##  Benchmark on K = 1000"
   ]
  },
  {
   "cell_type": "code",
   "execution_count": null,
   "metadata": {},
   "outputs": [],
   "source": [
    "_, Y_test = create_dataset(NUM_TESTING_DATA, 1000, trellis, snr=0.0, seed=1111)"
   ]
  },
  {
   "cell_type": "code",
   "execution_count": null,
   "metadata": {},
   "outputs": [],
   "source": [
    "viterbiBERs, viterbiBLERs = [], []\n",
    "neuralBERs, neuralBLERs = [], []\n",
    "\n",
    "pool = mp.Pool(processes=mp.cpu_count())\n",
    "labels = np.reshape(Y_test, (-1, BLOCK_LEN)).astype(int)\n",
    "try: \n",
    "    ERROR_PROBS  = np.linspace(0.01, 0.3, 8)\n",
    "    for error_prob in ERROR_PROBS:\n",
    "        print('[Prob]={:.2f}'.format(error_prob))\n",
    "        \n",
    "        # Generates new noisy signals\n",
    "        result = pool.starmap(\n",
    "            func=generate_noisy_input,  \n",
    "            iterable=[(msg_bits, trellis, error_prob) for msg_bits in labels])\n",
    "        \n",
    "        X, Y =  zip(*result)\n",
    "        \n",
    "        # #################################################################\n",
    "        # BENCHMARK NEURAL DECODER \n",
    "        # #################################################################\n",
    "        nn_start = time.time()\n",
    "        hamm_dists = benchmark_neural_decoder(X, Y)\n",
    "        \n",
    "        nn_ber = sum(hamm_dists) / np.product(np.shape(Y))\n",
    "        nn_bler = np.count_nonzero(hamm_dists) / len(Y)\n",
    "\n",
    "        neuralBERs.append(nn_ber)\n",
    "        neuralBLERs.append(nn_bler)            \n",
    "        print('\\tNeural Decoder:  [BER]={:5.7f} [BLER]={:5.3f} -- {:3.3f}s'.format(\n",
    "            nn_ber, nn_bler, time.time() - nn_start)) \n",
    "\n",
    "        # #################################################################\n",
    "        # BENCHMARK VITERBI DECODER \n",
    "        # #################################################################\n",
    "        vi_start = time.time()\n",
    "        hamm_dists = pool.starmap(benchmark_viterbi, [(y, x, sigma) for x, y in zip(X, Y)])\n",
    "        \n",
    "        ber = sum(hamm_dists) / np.product(np.shape(Y))\n",
    "        bler = np.count_nonzero(hamm_dists) / len(Y)\n",
    "        \n",
    "        viterbiBERs.append(ber)\n",
    "        viterbiBLERs.append(bler)\n",
    "        print('\\tViterbi Decoder: [BER]={:5.7f} [BLER]={:5.3f} -- {:3.3f}s'.format(\n",
    "              ber, bler, time.time() - vi_start))\n",
    "        \n",
    "except Exception as e:\n",
    "    print(e)\n",
    "finally:\n",
    "    pool.close()"
   ]
  },
  {
   "cell_type": "code",
   "execution_count": null,
   "metadata": {},
   "outputs": [],
   "source": [
    "# ###################################\n",
    "# Plot Bit Error Rate (BER) Curve\n",
    "# ###################################\n",
    "plt.figure(figsize=(18, 7))\n",
    "\n",
    "plt.subplot(1, 2, 1)\n",
    "plt.title('Block Length = 100 || Data rate = 1/2', fontsize=14)\n",
    "\n",
    "plt.semilogy(ERROR_PROBS, neuralBERs, '-vr')\n",
    "plt.semilogy(ERROR_PROBS, viterbiBERs, 's--')\n",
    "plt.legend(['N-RSC (SNR_train=0 dB)', 'Viterbi'], fontsize=16)\n",
    "plt.xlabel('Error Probabilities', fontsize=16)\n",
    "plt.xlim(xmin=ERROR_PROBS[0], xmax=ERROR_PROBS[-1])  # this line\n",
    "plt.ylabel('BER', fontsize=16)\n",
    "plt.grid(True, which='both')\n",
    "plt.savefig('result_ber_block_length_1000_snr0.png')\n",
    "\n",
    "# ###################################\n",
    "# Plot Block Error Rate (BLER) Curve\n",
    "# ###################################\n",
    "plt.subplot(1, 2, 2)\n",
    "plt.title('Block Length = 100 || Data rate = 1/2', fontsize=14)\n",
    "\n",
    "plt.semilogy(ERROR_PROBS, neuralBLERs, '-vr')\n",
    "plt.semilogy(ERROR_PROBS, viterbiBLERs, 's--')\n",
    "plt.ylabel('BLER', fontsize=16)\n",
    "plt.xlabel('Error Probabilities', fontsize=16)\n",
    "plt.legend(['N-RSC (SNR_train=0 dB)', 'Viterbi'], fontsize=16)\n",
    "\n",
    "plt.xlim(xmin=ERROR_PROBS[0], xmax=ERROR_PROBS[-1])  # this line\n",
    "plt.grid(True, which='both')\n",
    "plt.savefig('result_bler_block_length_1000_snr0.png')"
   ]
  }
 ],
 "metadata": {
  "accelerator": "GPU",
  "colab": {
   "collapsed_sections": [],
   "default_view": {},
   "name": "train_neural_decoder.ipynb",
   "provenance": [],
   "version": "0.3.2",
   "views": {}
  },
  "kernelspec": {
   "display_name": "Python 3",
   "language": "python",
   "name": "python3"
  },
  "language_info": {
   "codemirror_mode": {
    "name": "ipython",
    "version": 3
   },
   "file_extension": ".py",
   "mimetype": "text/x-python",
   "name": "python",
   "nbconvert_exporter": "python",
   "pygments_lexer": "ipython3",
   "version": "3.6.5"
  }
 },
 "nbformat": 4,
 "nbformat_minor": 1
}
